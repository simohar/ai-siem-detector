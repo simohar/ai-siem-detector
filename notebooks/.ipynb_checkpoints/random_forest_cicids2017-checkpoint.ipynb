{
 "cells": [
  {
   "cell_type": "markdown",
   "id": "11eac190",
   "metadata": {},
   "source": [
    "# CICIDS2017 - Détection avec Random Forest"
   ]
  },
  {
   "cell_type": "code",
   "execution_count": 20,
   "id": "4a3f9194",
   "metadata": {},
   "outputs": [],
   "source": [
    "import pandas as pd\n",
    "from sklearn.ensemble import RandomForestClassifier\n",
    "from sklearn.preprocessing import LabelEncoder, StandardScaler\n",
    "from sklearn.metrics import classification_report, confusion_matrix\n",
    "import seaborn as sns\n",
    "import matplotlib.pyplot as plt\n",
    "import joblib\n"
   ]
  },
  {
   "cell_type": "markdown",
   "id": "57a916a3",
   "metadata": {},
   "source": [
    "## 🔹 Chargement des données simulées"
   ]
  },
  {
   "cell_type": "code",
   "execution_count": 21,
   "id": "3520be3d",
   "metadata": {},
   "outputs": [],
   "source": [
    "# Colonnes utilisées dans le modèle\n",
    "features = [\n",
    "    'flow duration',\n",
    "    'total fwd packets',\n",
    "    'total backward packets',\n",
    "    'destination port'\n",
    "]\n",
    "\n",
    "expected_cols = features + ['label']\n",
    "\n",
    "# Initialisation du modèle avec entraînement incrémental (warm_start)\n",
    "rf = RandomForestClassifier(n_estimators=0, warm_start=True, random_state=42)\n",
    "\n",
    "# Paramètres de lecture\n",
    "chunk_size = 10000\n",
    "n_chunks = 0"
   ]
  },
  {
   "cell_type": "code",
   "execution_count": 22,
   "id": "0265ff48",
   "metadata": {},
   "outputs": [],
   "source": [
    "## Lecture des données et entrainement progressif"
   ]
  },
  {
   "cell_type": "code",
   "execution_count": 23,
   "id": "4afa06b9",
   "metadata": {},
   "outputs": [
    {
     "name": "stdout",
     "output_type": "stream",
     "text": [
      "✅ Chunk 0 traité — total lignes : 10000 — arbres : 0\n",
      "✅ Chunk 1 traité\n",
      "✅ Chunk 1 traité — total lignes : 20000 — arbres : 10\n",
      "✅ Chunk 2 traité\n",
      "✅ Chunk 2 traité — total lignes : 30000 — arbres : 20\n",
      "✅ Chunk 3 traité\n",
      "✅ Chunk 3 traité — total lignes : 40000 — arbres : 30\n",
      "✅ Chunk 4 traité\n",
      "✅ Chunk 4 traité — total lignes : 50000 — arbres : 40\n",
      "✅ Chunk 5 traité\n",
      "✅ Chunk 5 traité — total lignes : 60000 — arbres : 50\n",
      "✅ Chunk 6 traité\n",
      "✅ Chunk 6 traité — total lignes : 70000 — arbres : 60\n",
      "✅ Chunk 7 traité\n",
      "✅ Chunk 7 traité — total lignes : 80000 — arbres : 70\n",
      "✅ Chunk 8 traité\n",
      "✅ Chunk 8 traité — total lignes : 90000 — arbres : 80\n",
      "✅ Chunk 9 traité\n",
      "✅ Chunk 9 traité — total lignes : 100000 — arbres : 90\n",
      "✅ Chunk 10 traité\n",
      "✅ Chunk 10 traité — total lignes : 110000 — arbres : 100\n",
      "✅ Chunk 11 traité\n",
      "✅ Chunk 11 traité — total lignes : 120000 — arbres : 110\n",
      "✅ Chunk 12 traité\n",
      "✅ Chunk 12 traité — total lignes : 130000 — arbres : 120\n",
      "✅ Chunk 13 traité\n",
      "✅ Chunk 13 traité — total lignes : 140000 — arbres : 130\n",
      "✅ Chunk 14 traité\n",
      "✅ Chunk 14 traité — total lignes : 150000 — arbres : 140\n",
      "✅ Chunk 15 traité\n",
      "✅ Chunk 15 traité — total lignes : 160000 — arbres : 150\n",
      "✅ Chunk 16 traité\n",
      "✅ Chunk 16 traité — total lignes : 170000 — arbres : 160\n",
      "✅ Chunk 17 traité\n",
      "✅ Chunk 17 traité — total lignes : 180000 — arbres : 170\n",
      "✅ Chunk 18 traité\n",
      "✅ Chunk 18 traité — total lignes : 190000 — arbres : 180\n",
      "✅ Chunk 19 traité\n",
      "✅ Chunk 19 traité — total lignes : 200000 — arbres : 190\n",
      "✅ Chunk 20 traité\n",
      "✅ Chunk 20 traité — total lignes : 210000 — arbres : 200\n",
      "✅ Chunk 21 traité\n",
      "✅ Chunk 21 traité — total lignes : 220000 — arbres : 210\n",
      "✅ Chunk 22 traité\n",
      "✅ Chunk 22 traité — total lignes : 225745 — arbres : 220\n",
      "✅ Chunk 23 traité\n"
     ]
    }
   ],
   "source": [
    "total_rows = 0\n",
    "for chunk in pd.read_csv('../data/cicids2017.csv', chunksize=chunk_size):\n",
    "    total_rows += len(chunk)\n",
    "    print(f\"✅ Chunk {n_chunks} traité — total lignes : {total_rows} — arbres : {rf.n_estimators}\")\n",
    "\n",
    "    chunk.columns = chunk.columns.str.strip().str.lower()  # nettoie les noms\n",
    "\n",
    "    # Nettoyage\n",
    "    chunk = chunk.dropna().drop_duplicates()\n",
    "    if 'label' not in chunk.columns:\n",
    "        print(\"⛔ Chunk ignoré : colonne 'label' absente\")\n",
    "        continue\n",
    "\n",
    "    chunk = chunk[chunk['label'].isin(['BENIGN', 'DoS'])]\n",
    "\n",
    "    # Vérification des colonnes\n",
    "    missing = [col for col in [f.lower() for f in features + ['label']] if col not in chunk.columns]\n",
    "    if missing or chunk.empty:\n",
    "        print(f\"⛔ Chunk ignoré : colonnes manquantes {missing}\")\n",
    "        continue\n",
    "\n",
    "    # Encodage\n",
    "    chunk['label'] = LabelEncoder().fit_transform(chunk['label'])\n",
    "\n",
    "    X = chunk[[f.lower() for f in features]]\n",
    "    y = chunk['label']\n",
    "    X_scaled = StandardScaler().fit_transform(X)\n",
    "\n",
    "    rf.n_estimators += 10\n",
    "    rf.fit(X_scaled, y)\n",
    "\n",
    "    n_chunks += 1\n",
    "    print(f\"✅ Chunk {n_chunks} traité\")\n"
   ]
  },
  {
   "cell_type": "code",
   "execution_count": 24,
   "id": "709c7a83",
   "metadata": {},
   "outputs": [],
   "source": [
    "## Sauvegarde du modèle entraîné"
   ]
  },
  {
   "cell_type": "code",
   "execution_count": 25,
   "id": "a508d147",
   "metadata": {},
   "outputs": [
    {
     "name": "stdout",
     "output_type": "stream",
     "text": [
      "🎯 Entraînement terminé sur 23 chunks valides — 225745 lignes — 230 arbres\n",
      "zebi\n"
     ]
    }
   ],
   "source": [
    "joblib.dump(rf, '../model/rf_model.pkl')\n",
    "print(f\"🎯 Entraînement terminé sur {n_chunks} chunks valides — {total_rows} lignes — {rf.n_estimators} arbres\")\n"
   ]
  },
  {
   "cell_type": "code",
   "execution_count": null,
   "id": "5fc786b5-97b1-4178-ae8b-fe35494acd0f",
   "metadata": {},
   "outputs": [],
   "source": []
  }
 ],
 "metadata": {
  "kernelspec": {
   "display_name": "Python 3 (ipykernel)",
   "language": "python",
   "name": "python3"
  },
  "language_info": {
   "codemirror_mode": {
    "name": "ipython",
    "version": 3
   },
   "file_extension": ".py",
   "mimetype": "text/x-python",
   "name": "python",
   "nbconvert_exporter": "python",
   "pygments_lexer": "ipython3",
   "version": "3.13.3"
  }
 },
 "nbformat": 4,
 "nbformat_minor": 5
}
