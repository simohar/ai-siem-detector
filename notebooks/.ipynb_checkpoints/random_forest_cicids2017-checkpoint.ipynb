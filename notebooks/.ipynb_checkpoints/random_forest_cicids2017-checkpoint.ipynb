{
 "cells": [
  {
   "cell_type": "markdown",
   "id": "11eac190",
   "metadata": {},
   "source": [
    "# CICIDS2017 - Détection avec Random Forest"
   ]
  },
  {
   "cell_type": "code",
   "execution_count": null,
   "id": "4a3f9194",
   "metadata": {},
   "outputs": [],
   "source": [
    "import pandas as pd\n",
    "from sklearn.ensemble import RandomForestClassifier\n",
    "from sklearn.model_selection import train_test_split\n",
    "from sklearn.preprocessing import LabelEncoder, StandardScaler\n",
    "from sklearn.metrics import classification_report, confusion_matrix\n",
    "import matplotlib.pyplot as plt\n",
    "import seaborn as sns"
   ]
  },
  {
   "cell_type": "markdown",
   "id": "57a916a3",
   "metadata": {},
   "source": [
    "## 🔹 Chargement des données simulées"
   ]
  },
  {
   "cell_type": "code",
   "execution_count": null,
   "id": "3520be3d",
   "metadata": {},
   "outputs": [],
   "source": [
    "sample_data = {'Protocol': ['TCP', 'UDP', 'TCP', 'ICMP', 'UDP'], 'Src Port': [12345, 53, 443, 0, 67], 'Dst Port': [80, 80, 22, 8, 53], 'Flow Duration': [10000, 5000, 20000, 15000, 8000], 'Tot Fwd Pkts': [10, 5, 20, 15, 8], 'Tot Bwd Pkts': [15, 3, 25, 10, 9], 'Label': ['BENIGN', 'BENIGN', 'DoS', 'BENIGN', 'DoS']}\n",
    "df = pd.DataFrame(sample_data)\n",
    "df.head()"
   ]
  },
  {
   "cell_type": "markdown",
   "id": "e1ed08b1",
   "metadata": {},
   "source": [
    "## 🔹 Encodage des variables catégorielles"
   ]
  },
  {
   "cell_type": "code",
   "execution_count": null,
   "id": "2fa97bc2",
   "metadata": {},
   "outputs": [],
   "source": [
    "label_enc = LabelEncoder()\n",
    "df['Protocol'] = label_enc.fit_transform(df['Protocol'])\n",
    "df['Label'] = label_enc.fit_transform(df['Label'])"
   ]
  },
  {
   "cell_type": "markdown",
   "id": "1f501d87",
   "metadata": {},
   "source": [
    "## 🔹 Séparation des features et de la cible + normalisation"
   ]
  },
  {
   "cell_type": "code",
   "execution_count": null,
   "id": "5b146a2d",
   "metadata": {},
   "outputs": [],
   "source": [
    "X = df.drop(columns=['Label'])\n",
    "y = df['Label']\n",
    "scaler = StandardScaler()\n",
    "X_scaled = scaler.fit_transform(X)"
   ]
  },
  {
   "cell_type": "markdown",
   "id": "ee8be0d2",
   "metadata": {},
   "source": [
    "## 🔹 Séparation des données en train/test"
   ]
  },
  {
   "cell_type": "code",
   "execution_count": null,
   "id": "2c800b6a",
   "metadata": {},
   "outputs": [],
   "source": [
    "X_train, X_test, y_train, y_test = train_test_split(X_scaled, y, test_size=0.4, random_state=42)"
   ]
  },
  {
   "cell_type": "markdown",
   "id": "9268bb2b",
   "metadata": {},
   "source": [
    "## 🔹 Entraînement du modèle Random Forest"
   ]
  },
  {
   "cell_type": "code",
   "execution_count": null,
   "id": "6126b64c",
   "metadata": {},
   "outputs": [],
   "source": [
    "rf = RandomForestClassifier(n_estimators=100, random_state=42)\n",
    "rf.fit(X_train, y_train)"
   ]
  },
  {
   "cell_type": "markdown",
   "id": "53c4e8f4",
   "metadata": {},
   "source": [
    "## 🔹 Prédiction et évaluation du modèle"
   ]
  },
  {
   "cell_type": "code",
   "execution_count": null,
   "id": "a3e69527",
   "metadata": {},
   "outputs": [],
   "source": [
    "y_pred = rf.predict(X_test)\n",
    "print(classification_report(y_test, y_pred))"
   ]
  },
  {
   "cell_type": "markdown",
   "id": "3a966d66",
   "metadata": {},
   "source": [
    "## 🔹 Affichage de la matrice de confusion"
   ]
  },
  {
   "cell_type": "code",
   "execution_count": null,
   "id": "931a470c",
   "metadata": {},
   "outputs": [],
   "source": [
    "conf_mat = confusion_matrix(y_test, y_pred)\n",
    "sns.heatmap(conf_mat, annot=True, fmt='d', cmap='Blues', xticklabels=['BENIGN', 'DoS'], yticklabels=['BENIGN', 'DoS'])\n",
    "plt.xlabel('Predicted')\n",
    "plt.ylabel('Actual')\n",
    "plt.title('Confusion Matrix')\n",
    "plt.show()"
   ]
  }
 ],
 "metadata": {
  "language_info": {
   "name": "python"
  }
 },
 "nbformat": 4,
 "nbformat_minor": 5
}
